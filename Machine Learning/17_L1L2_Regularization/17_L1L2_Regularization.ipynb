{
 "cells": [
  {
   "cell_type": "markdown",
   "id": "f70bb771",
   "metadata": {},
   "source": [
    "<h1 style = \"color:red; border-bottom: 4px solid gold; \n",
    "           align: center;\n",
    "           padding-bottom: 5px;\">Regularization Tutorial</h1>"
   ]
  },
  {
   "cell_type": "markdown",
   "id": "ff3adefb",
   "metadata": {},
   "source": [
    "## 🌟 Introduction to Regularization\n",
    "\n",
    "**Regularization** is a method used in machine learning and statistics to prevent a model from **overfitting** — that is, fitting the training data too closely and performing poorly on unseen data.\n",
    "\n",
    "---\n",
    "\n",
    "### 🔹 Intuitive Idea\n",
    "\n",
    "When a model learns, it tries to minimize the **error** (or loss) between predictions and actual values.  \n",
    "However, if it focuses too much on the training data, it may start memorizing noise rather than learning real patterns.\n",
    "\n",
    "Regularization helps by adding a **penalty** to the model’s loss function, discouraging overly large or complex weights.\n",
    "\n",
    "---\n",
    "\n",
    "### 🔹 The Penalization Term\n",
    "\n",
    "The modified loss function looks like this:\n",
    "\n",
    "$$\n",
    "\\text{New Loss} = \\text{Original Loss (error)} + \\lambda \\times \\text{Penalty}\n",
    "$$\n",
    "\n",
    "- **λ (lambda)** controls how strong the penalty is:\n",
    "  - If λ = 0 → no regularization (risk of overfitting)\n",
    "  - If λ is large → strong penalty (model becomes simpler)\n",
    "\n",
    "---\n",
    "\n",
    "### 🔸 Common Types of Regularization\n",
    "\n",
    "1. **L1 Regularization (Lasso)**  \n",
    "   Adds the absolute values of weights:  \n",
    "   $$\n",
    "   \\text{Penalty} = \\lambda \\sum |w_i|\n",
    "   $$  \n",
    "   → pushes some weights exactly to **zero**, effectively performing **feature selection**.\n",
    "\n",
    "2. **L2 Regularization (Ridge)**  \n",
    "   Adds the squares of weights:  \n",
    "   $$\n",
    "   \\text{Penalty} = \\lambda \\sum w_i^2\n",
    "   $$  \n",
    "   → shrinks weights toward zero but keeps all features.\n",
    "\n",
    "3. **Elastic Net**  \n",
    "   Combines both L1 and L2 penalties.\n",
    "\n",
    "---\n",
    "\n",
    "### 🔹 Intuition\n",
    "\n",
    "Regularization is like telling the model:  \n",
    "> “Fit the data well, but keep the coefficients small — don’t overcomplicate things.”\n",
    "\n",
    "---\n"
   ]
  },
  {
   "cell_type": "code",
   "execution_count": 1,
   "id": "61f4fb75",
   "metadata": {},
   "outputs": [],
   "source": [
    "import pandas as pd\n",
    "import numpy as np\n",
    "from sklearn.model_selection import train_test_split\n",
    "from sklearn.model_selection import cross_val_score\n",
    "from sklearn.linear_model import LinearRegression\n",
    "from sklearn.linear_model import Lasso\n",
    "from sklearn.linear_model import Ridge\n",
    "from sklearn.model_selection import GridSearchCV\n"
   ]
  },
  {
   "cell_type": "code",
   "execution_count": 2,
   "id": "22dacbe3",
   "metadata": {},
   "outputs": [],
   "source": [
    "\n",
    "\n",
    "url = \"https://raw.githubusercontent.com/selva86/datasets/master/BostonHousing.csv\"\n",
    "df = pd.read_csv(url)\n"
   ]
  },
  {
   "cell_type": "markdown",
   "id": "0e68ff3a",
   "metadata": {},
   "source": [
    "## Linear Regressio"
   ]
  },
  {
   "cell_type": "code",
   "execution_count": 3,
   "id": "9aec2eee",
   "metadata": {},
   "outputs": [],
   "source": [
    "X = df.drop([\"medv\"],axis =1)\n",
    "y = df.medv"
   ]
  },
  {
   "cell_type": "code",
   "execution_count": 4,
   "id": "9f29cebe",
   "metadata": {},
   "outputs": [
    {
     "data": {
      "text/plain": [
       "-37.13180746769902"
      ]
     },
     "execution_count": 4,
     "metadata": {},
     "output_type": "execute_result"
    }
   ],
   "source": [
    "lin_reg = LinearRegression()\n",
    "mse = cross_val_score(lin_reg,X,y,scoring=\"neg_mean_squared_error\",cv = 5)\n",
    "np.mean(mse)"
   ]
  },
  {
   "cell_type": "markdown",
   "id": "2ef4826d",
   "metadata": {},
   "source": [
    "## Ridge"
   ]
  },
  {
   "cell_type": "code",
   "execution_count": 5,
   "id": "aea38536",
   "metadata": {},
   "outputs": [
    {
     "data": {
      "text/html": [
       "<div>\n",
       "<style scoped>\n",
       "    .dataframe tbody tr th:only-of-type {\n",
       "        vertical-align: middle;\n",
       "    }\n",
       "\n",
       "    .dataframe tbody tr th {\n",
       "        vertical-align: top;\n",
       "    }\n",
       "\n",
       "    .dataframe thead th {\n",
       "        text-align: right;\n",
       "    }\n",
       "</style>\n",
       "<table border=\"1\" class=\"dataframe\">\n",
       "  <thead>\n",
       "    <tr style=\"text-align: right;\">\n",
       "      <th></th>\n",
       "      <th>params</th>\n",
       "      <th>mean_test_score</th>\n",
       "      <th>rank_test_score</th>\n",
       "    </tr>\n",
       "  </thead>\n",
       "  <tbody>\n",
       "    <tr>\n",
       "      <th>0</th>\n",
       "      <td>{'alpha': 1e-15}</td>\n",
       "      <td>-37.131807</td>\n",
       "      <td>18</td>\n",
       "    </tr>\n",
       "    <tr>\n",
       "      <th>1</th>\n",
       "      <td>{'alpha': 1e-10}</td>\n",
       "      <td>-37.131807</td>\n",
       "      <td>17</td>\n",
       "    </tr>\n",
       "    <tr>\n",
       "      <th>2</th>\n",
       "      <td>{'alpha': 1e-05}</td>\n",
       "      <td>-37.131758</td>\n",
       "      <td>16</td>\n",
       "    </tr>\n",
       "    <tr>\n",
       "      <th>3</th>\n",
       "      <td>{'alpha': 0.01}</td>\n",
       "      <td>-37.083135</td>\n",
       "      <td>15</td>\n",
       "    </tr>\n",
       "    <tr>\n",
       "      <th>4</th>\n",
       "      <td>{'alpha': 0.1}</td>\n",
       "      <td>-36.707045</td>\n",
       "      <td>14</td>\n",
       "    </tr>\n",
       "    <tr>\n",
       "      <th>5</th>\n",
       "      <td>{'alpha': 1}</td>\n",
       "      <td>-35.266731</td>\n",
       "      <td>13</td>\n",
       "    </tr>\n",
       "    <tr>\n",
       "      <th>6</th>\n",
       "      <td>{'alpha': 2}</td>\n",
       "      <td>-34.785797</td>\n",
       "      <td>12</td>\n",
       "    </tr>\n",
       "    <tr>\n",
       "      <th>7</th>\n",
       "      <td>{'alpha': 3}</td>\n",
       "      <td>-34.507178</td>\n",
       "      <td>11</td>\n",
       "    </tr>\n",
       "    <tr>\n",
       "      <th>8</th>\n",
       "      <td>{'alpha': 5}</td>\n",
       "      <td>-34.112014</td>\n",
       "      <td>10</td>\n",
       "    </tr>\n",
       "    <tr>\n",
       "      <th>9</th>\n",
       "      <td>{'alpha': 10}</td>\n",
       "      <td>-33.395224</td>\n",
       "      <td>9</td>\n",
       "    </tr>\n",
       "    <tr>\n",
       "      <th>10</th>\n",
       "      <td>{'alpha': 20}</td>\n",
       "      <td>-32.380250</td>\n",
       "      <td>6</td>\n",
       "    </tr>\n",
       "    <tr>\n",
       "      <th>11</th>\n",
       "      <td>{'alpha': 25}</td>\n",
       "      <td>-31.995322</td>\n",
       "      <td>5</td>\n",
       "    </tr>\n",
       "    <tr>\n",
       "      <th>12</th>\n",
       "      <td>{'alpha': 30}</td>\n",
       "      <td>-31.668994</td>\n",
       "      <td>4</td>\n",
       "    </tr>\n",
       "    <tr>\n",
       "      <th>13</th>\n",
       "      <td>{'alpha': 50}</td>\n",
       "      <td>-30.770001</td>\n",
       "      <td>3</td>\n",
       "    </tr>\n",
       "    <tr>\n",
       "      <th>14</th>\n",
       "      <td>{'alpha': 75}</td>\n",
       "      <td>-30.185869</td>\n",
       "      <td>2</td>\n",
       "    </tr>\n",
       "    <tr>\n",
       "      <th>15</th>\n",
       "      <td>{'alpha': 100}</td>\n",
       "      <td>-29.905702</td>\n",
       "      <td>1</td>\n",
       "    </tr>\n",
       "    <tr>\n",
       "      <th>16</th>\n",
       "      <td>{'alpha': 1000}</td>\n",
       "      <td>-32.828048</td>\n",
       "      <td>7</td>\n",
       "    </tr>\n",
       "    <tr>\n",
       "      <th>17</th>\n",
       "      <td>{'alpha': 1000}</td>\n",
       "      <td>-32.828048</td>\n",
       "      <td>7</td>\n",
       "    </tr>\n",
       "  </tbody>\n",
       "</table>\n",
       "</div>"
      ],
      "text/plain": [
       "              params  mean_test_score  rank_test_score\n",
       "0   {'alpha': 1e-15}       -37.131807               18\n",
       "1   {'alpha': 1e-10}       -37.131807               17\n",
       "2   {'alpha': 1e-05}       -37.131758               16\n",
       "3    {'alpha': 0.01}       -37.083135               15\n",
       "4     {'alpha': 0.1}       -36.707045               14\n",
       "5       {'alpha': 1}       -35.266731               13\n",
       "6       {'alpha': 2}       -34.785797               12\n",
       "7       {'alpha': 3}       -34.507178               11\n",
       "8       {'alpha': 5}       -34.112014               10\n",
       "9      {'alpha': 10}       -33.395224                9\n",
       "10     {'alpha': 20}       -32.380250                6\n",
       "11     {'alpha': 25}       -31.995322                5\n",
       "12     {'alpha': 30}       -31.668994                4\n",
       "13     {'alpha': 50}       -30.770001                3\n",
       "14     {'alpha': 75}       -30.185869                2\n",
       "15    {'alpha': 100}       -29.905702                1\n",
       "16   {'alpha': 1000}       -32.828048                7\n",
       "17   {'alpha': 1000}       -32.828048                7"
      ]
     },
     "execution_count": 5,
     "metadata": {},
     "output_type": "execute_result"
    }
   ],
   "source": [
    "ridge = Ridge()\n",
    "parameters = {\"alpha\": [1e-15,1e-10,1e-5,1e-2,1e-1,1,2,3,5,10,20,25,30,50,75,100,1000,1000]}\n",
    "ridge_regressor = GridSearchCV(ridge,parameters,scoring = \"neg_mean_squared_error\",cv =5)\n",
    "ridge_regressor.fit(X,y)\n",
    "pd.DataFrame(ridge_regressor.cv_results_)[[\"params\",\"mean_test_score\",\"rank_test_score\"]]\n",
    "\n"
   ]
  },
  {
   "cell_type": "code",
   "execution_count": 6,
   "id": "e04e715c",
   "metadata": {},
   "outputs": [
    {
     "data": {
      "text/plain": [
       "{'alpha': 100}"
      ]
     },
     "execution_count": 6,
     "metadata": {},
     "output_type": "execute_result"
    }
   ],
   "source": [
    "ridge_regressor.best_params_"
   ]
  },
  {
   "cell_type": "code",
   "execution_count": 7,
   "id": "5b467bc9",
   "metadata": {},
   "outputs": [
    {
     "data": {
      "text/plain": [
       "0.717864397707179"
      ]
     },
     "execution_count": 7,
     "metadata": {},
     "output_type": "execute_result"
    }
   ],
   "source": [
    "ridge_model =Ridge(alpha=100)\n",
    "ridge_model.fit(X,y)\n",
    "ridge_model.score(X,y)"
   ]
  },
  {
   "cell_type": "markdown",
   "id": "c04d1e27",
   "metadata": {},
   "source": [
    "## Lassos"
   ]
  },
  {
   "cell_type": "code",
   "execution_count": 8,
   "id": "71e05e77",
   "metadata": {},
   "outputs": [
    {
     "name": "stderr",
     "output_type": "stream",
     "text": [
      "c:\\Users\\rdank\\anaconda3\\Lib\\site-packages\\sklearn\\linear_model\\_coordinate_descent.py:631: ConvergenceWarning: Objective did not converge. You might want to increase the number of iterations, check the scale of the features or consider increasing regularisation. Duality gap: 4.431e+03, tolerance: 3.919e+00\n",
      "  model = cd_fast.enet_coordinate_descent(\n",
      "c:\\Users\\rdank\\anaconda3\\Lib\\site-packages\\sklearn\\linear_model\\_coordinate_descent.py:631: ConvergenceWarning: Objective did not converge. You might want to increase the number of iterations, check the scale of the features or consider increasing regularisation. Duality gap: 4.397e+03, tolerance: 3.307e+00\n",
      "  model = cd_fast.enet_coordinate_descent(\n",
      "c:\\Users\\rdank\\anaconda3\\Lib\\site-packages\\sklearn\\linear_model\\_coordinate_descent.py:631: ConvergenceWarning: Objective did not converge. You might want to increase the number of iterations, check the scale of the features or consider increasing regularisation. Duality gap: 3.797e+03, tolerance: 2.814e+00\n",
      "  model = cd_fast.enet_coordinate_descent(\n",
      "c:\\Users\\rdank\\anaconda3\\Lib\\site-packages\\sklearn\\linear_model\\_coordinate_descent.py:631: ConvergenceWarning: Objective did not converge. You might want to increase the number of iterations, check the scale of the features or consider increasing regularisation. Duality gap: 2.564e+03, tolerance: 3.307e+00\n",
      "  model = cd_fast.enet_coordinate_descent(\n",
      "c:\\Users\\rdank\\anaconda3\\Lib\\site-packages\\sklearn\\linear_model\\_coordinate_descent.py:631: ConvergenceWarning: Objective did not converge. You might want to increase the number of iterations, check the scale of the features or consider increasing regularisation. Duality gap: 4.294e+03, tolerance: 3.481e+00\n",
      "  model = cd_fast.enet_coordinate_descent(\n"
     ]
    },
    {
     "name": "stdout",
     "output_type": "stream",
     "text": [
      "{'alpha': 0.1}\n",
      "-34.830432318202675\n"
     ]
    }
   ],
   "source": [
    "lasso =Lasso()\n",
    "lasso_model = GridSearchCV(lasso,parameters, scoring=\"neg_mean_squared_error\", cv=5)\n",
    "lasso_model.fit(X,y)\n",
    "print(lasso_model.best_params_)\n",
    "print(lasso_model.best_score_)"
   ]
  },
  {
   "cell_type": "code",
   "execution_count": 9,
   "id": "0a9aadfa",
   "metadata": {},
   "outputs": [
    {
     "data": {
      "text/plain": [
       "0.22497922550751603"
      ]
     },
     "execution_count": 9,
     "metadata": {},
     "output_type": "execute_result"
    }
   ],
   "source": [
    "lasso_model =Lasso(alpha=100)\n",
    "lasso_model.fit(X,y)\n",
    "lasso_model.score(X,y)"
   ]
  },
  {
   "cell_type": "markdown",
   "id": "631b9ae7",
   "metadata": {},
   "source": [
    "### Melbourne housing\n",
    "\n",
    "---"
   ]
  },
  {
   "cell_type": "code",
   "execution_count": 10,
   "id": "391cc84f",
   "metadata": {},
   "outputs": [
    {
     "data": {
      "text/html": [
       "<div>\n",
       "<style scoped>\n",
       "    .dataframe tbody tr th:only-of-type {\n",
       "        vertical-align: middle;\n",
       "    }\n",
       "\n",
       "    .dataframe tbody tr th {\n",
       "        vertical-align: top;\n",
       "    }\n",
       "\n",
       "    .dataframe thead th {\n",
       "        text-align: right;\n",
       "    }\n",
       "</style>\n",
       "<table border=\"1\" class=\"dataframe\">\n",
       "  <thead>\n",
       "    <tr style=\"text-align: right;\">\n",
       "      <th></th>\n",
       "      <th>Suburb</th>\n",
       "      <th>Address</th>\n",
       "      <th>Rooms</th>\n",
       "      <th>Type</th>\n",
       "      <th>Price</th>\n",
       "      <th>Method</th>\n",
       "      <th>SellerG</th>\n",
       "      <th>Date</th>\n",
       "      <th>Distance</th>\n",
       "      <th>Postcode</th>\n",
       "      <th>...</th>\n",
       "      <th>Bathroom</th>\n",
       "      <th>Car</th>\n",
       "      <th>Landsize</th>\n",
       "      <th>BuildingArea</th>\n",
       "      <th>YearBuilt</th>\n",
       "      <th>CouncilArea</th>\n",
       "      <th>Lattitude</th>\n",
       "      <th>Longtitude</th>\n",
       "      <th>Regionname</th>\n",
       "      <th>Propertycount</th>\n",
       "    </tr>\n",
       "  </thead>\n",
       "  <tbody>\n",
       "    <tr>\n",
       "      <th>0</th>\n",
       "      <td>Abbotsford</td>\n",
       "      <td>68 Studley St</td>\n",
       "      <td>2</td>\n",
       "      <td>h</td>\n",
       "      <td>NaN</td>\n",
       "      <td>SS</td>\n",
       "      <td>Jellis</td>\n",
       "      <td>3/09/2016</td>\n",
       "      <td>2.5</td>\n",
       "      <td>3067.0</td>\n",
       "      <td>...</td>\n",
       "      <td>1.0</td>\n",
       "      <td>1.0</td>\n",
       "      <td>126.0</td>\n",
       "      <td>NaN</td>\n",
       "      <td>NaN</td>\n",
       "      <td>Yarra City Council</td>\n",
       "      <td>-37.8014</td>\n",
       "      <td>144.9958</td>\n",
       "      <td>Northern Metropolitan</td>\n",
       "      <td>4019.0</td>\n",
       "    </tr>\n",
       "    <tr>\n",
       "      <th>1</th>\n",
       "      <td>Abbotsford</td>\n",
       "      <td>85 Turner St</td>\n",
       "      <td>2</td>\n",
       "      <td>h</td>\n",
       "      <td>1480000.0</td>\n",
       "      <td>S</td>\n",
       "      <td>Biggin</td>\n",
       "      <td>3/12/2016</td>\n",
       "      <td>2.5</td>\n",
       "      <td>3067.0</td>\n",
       "      <td>...</td>\n",
       "      <td>1.0</td>\n",
       "      <td>1.0</td>\n",
       "      <td>202.0</td>\n",
       "      <td>NaN</td>\n",
       "      <td>NaN</td>\n",
       "      <td>Yarra City Council</td>\n",
       "      <td>-37.7996</td>\n",
       "      <td>144.9984</td>\n",
       "      <td>Northern Metropolitan</td>\n",
       "      <td>4019.0</td>\n",
       "    </tr>\n",
       "    <tr>\n",
       "      <th>2</th>\n",
       "      <td>Abbotsford</td>\n",
       "      <td>25 Bloomburg St</td>\n",
       "      <td>2</td>\n",
       "      <td>h</td>\n",
       "      <td>1035000.0</td>\n",
       "      <td>S</td>\n",
       "      <td>Biggin</td>\n",
       "      <td>4/02/2016</td>\n",
       "      <td>2.5</td>\n",
       "      <td>3067.0</td>\n",
       "      <td>...</td>\n",
       "      <td>1.0</td>\n",
       "      <td>0.0</td>\n",
       "      <td>156.0</td>\n",
       "      <td>79.0</td>\n",
       "      <td>1900.0</td>\n",
       "      <td>Yarra City Council</td>\n",
       "      <td>-37.8079</td>\n",
       "      <td>144.9934</td>\n",
       "      <td>Northern Metropolitan</td>\n",
       "      <td>4019.0</td>\n",
       "    </tr>\n",
       "    <tr>\n",
       "      <th>3</th>\n",
       "      <td>Abbotsford</td>\n",
       "      <td>18/659 Victoria St</td>\n",
       "      <td>3</td>\n",
       "      <td>u</td>\n",
       "      <td>NaN</td>\n",
       "      <td>VB</td>\n",
       "      <td>Rounds</td>\n",
       "      <td>4/02/2016</td>\n",
       "      <td>2.5</td>\n",
       "      <td>3067.0</td>\n",
       "      <td>...</td>\n",
       "      <td>2.0</td>\n",
       "      <td>1.0</td>\n",
       "      <td>0.0</td>\n",
       "      <td>NaN</td>\n",
       "      <td>NaN</td>\n",
       "      <td>Yarra City Council</td>\n",
       "      <td>-37.8114</td>\n",
       "      <td>145.0116</td>\n",
       "      <td>Northern Metropolitan</td>\n",
       "      <td>4019.0</td>\n",
       "    </tr>\n",
       "    <tr>\n",
       "      <th>4</th>\n",
       "      <td>Abbotsford</td>\n",
       "      <td>5 Charles St</td>\n",
       "      <td>3</td>\n",
       "      <td>h</td>\n",
       "      <td>1465000.0</td>\n",
       "      <td>SP</td>\n",
       "      <td>Biggin</td>\n",
       "      <td>4/03/2017</td>\n",
       "      <td>2.5</td>\n",
       "      <td>3067.0</td>\n",
       "      <td>...</td>\n",
       "      <td>2.0</td>\n",
       "      <td>0.0</td>\n",
       "      <td>134.0</td>\n",
       "      <td>150.0</td>\n",
       "      <td>1900.0</td>\n",
       "      <td>Yarra City Council</td>\n",
       "      <td>-37.8093</td>\n",
       "      <td>144.9944</td>\n",
       "      <td>Northern Metropolitan</td>\n",
       "      <td>4019.0</td>\n",
       "    </tr>\n",
       "  </tbody>\n",
       "</table>\n",
       "<p>5 rows × 21 columns</p>\n",
       "</div>"
      ],
      "text/plain": [
       "       Suburb             Address  Rooms Type      Price Method SellerG  \\\n",
       "0  Abbotsford       68 Studley St      2    h        NaN     SS  Jellis   \n",
       "1  Abbotsford        85 Turner St      2    h  1480000.0      S  Biggin   \n",
       "2  Abbotsford     25 Bloomburg St      2    h  1035000.0      S  Biggin   \n",
       "3  Abbotsford  18/659 Victoria St      3    u        NaN     VB  Rounds   \n",
       "4  Abbotsford        5 Charles St      3    h  1465000.0     SP  Biggin   \n",
       "\n",
       "        Date  Distance  Postcode  ...  Bathroom  Car  Landsize  BuildingArea  \\\n",
       "0  3/09/2016       2.5    3067.0  ...       1.0  1.0     126.0           NaN   \n",
       "1  3/12/2016       2.5    3067.0  ...       1.0  1.0     202.0           NaN   \n",
       "2  4/02/2016       2.5    3067.0  ...       1.0  0.0     156.0          79.0   \n",
       "3  4/02/2016       2.5    3067.0  ...       2.0  1.0       0.0           NaN   \n",
       "4  4/03/2017       2.5    3067.0  ...       2.0  0.0     134.0         150.0   \n",
       "\n",
       "   YearBuilt         CouncilArea Lattitude  Longtitude             Regionname  \\\n",
       "0        NaN  Yarra City Council  -37.8014    144.9958  Northern Metropolitan   \n",
       "1        NaN  Yarra City Council  -37.7996    144.9984  Northern Metropolitan   \n",
       "2     1900.0  Yarra City Council  -37.8079    144.9934  Northern Metropolitan   \n",
       "3        NaN  Yarra City Council  -37.8114    145.0116  Northern Metropolitan   \n",
       "4     1900.0  Yarra City Council  -37.8093    144.9944  Northern Metropolitan   \n",
       "\n",
       "  Propertycount  \n",
       "0        4019.0  \n",
       "1        4019.0  \n",
       "2        4019.0  \n",
       "3        4019.0  \n",
       "4        4019.0  \n",
       "\n",
       "[5 rows x 21 columns]"
      ]
     },
     "execution_count": 10,
     "metadata": {},
     "output_type": "execute_result"
    }
   ],
   "source": [
    "data =pd.read_csv(\"Melbourne_housing_FULL.csv\")\n",
    "data.head()"
   ]
  },
  {
   "cell_type": "code",
   "execution_count": 11,
   "id": "4b76ecbe",
   "metadata": {},
   "outputs": [],
   "source": [
    "# let's use limited columns which makes more sense for serving our purpose\n",
    "cols_to_use = [\"Suburb\",\"Type\",'Rooms', 'Method', 'SellerG', 'Regionname', 'Propertycount', \n",
    "               'Distance', 'CouncilArea', 'Bedroom2', 'Bathroom', 'Car', 'Landsize', 'BuildingArea', 'Price']\n",
    "data = data[cols_to_use]"
   ]
  },
  {
   "cell_type": "code",
   "execution_count": 12,
   "id": "2117f649",
   "metadata": {},
   "outputs": [
    {
     "data": {
      "text/plain": [
       "Suburb               0\n",
       "Type                 0\n",
       "Rooms                0\n",
       "Method               0\n",
       "SellerG              0\n",
       "Regionname           3\n",
       "Propertycount        3\n",
       "Distance             1\n",
       "CouncilArea          3\n",
       "Bedroom2          8217\n",
       "Bathroom          8226\n",
       "Car               8728\n",
       "Landsize         11810\n",
       "BuildingArea     21115\n",
       "Price             7610\n",
       "dtype: int64"
      ]
     },
     "execution_count": 12,
     "metadata": {},
     "output_type": "execute_result"
    }
   ],
   "source": [
    "data.isna().sum()"
   ]
  },
  {
   "cell_type": "markdown",
   "id": "2f688067",
   "metadata": {},
   "source": [
    "## Handling Missing values\n",
    "---\n"
   ]
  },
  {
   "cell_type": "code",
   "execution_count": 13,
   "id": "4931a62c",
   "metadata": {},
   "outputs": [],
   "source": [
    "# Some feature's missing values can be treated as zero (another class for NA values or absence of that feature)\n",
    "# like 0 for Propertycount, Bedroom2 will refer to other class of NA values\n",
    "# like 0 for Car feature will mean that there's no car parking feature with house\n",
    "cols_to_fill_zero = ['Propertycount', 'Distance', 'Bedroom2', 'Bathroom', 'Car']\n",
    "data[cols_to_fill_zero] = data[cols_to_fill_zero].fillna(0)\n",
    "\n",
    "# other continuous features can be imputed with mean for faster results since our focus is on Reducing overfitting\n",
    "# using Lasso and Ridge Regression\n",
    "data['Landsize'] = data['Landsize'].fillna(data.Landsize.mean())\n",
    "data['BuildingArea'] = data['BuildingArea'].fillna(data.BuildingArea.mean())"
   ]
  },
  {
   "cell_type": "code",
   "execution_count": 14,
   "id": "c7800a33",
   "metadata": {},
   "outputs": [
    {
     "data": {
      "text/plain": [
       "Suburb              0\n",
       "Type                0\n",
       "Rooms               0\n",
       "Method              0\n",
       "SellerG             0\n",
       "Regionname          3\n",
       "Propertycount       0\n",
       "Distance            0\n",
       "CouncilArea         3\n",
       "Bedroom2            0\n",
       "Bathroom            0\n",
       "Car                 0\n",
       "Landsize            0\n",
       "BuildingArea        0\n",
       "Price            7610\n",
       "dtype: int64"
      ]
     },
     "execution_count": 14,
     "metadata": {},
     "output_type": "execute_result"
    }
   ],
   "source": [
    "data.isna().sum()"
   ]
  },
  {
   "cell_type": "code",
   "execution_count": 15,
   "id": "f577280e",
   "metadata": {},
   "outputs": [],
   "source": [
    "data.dropna(inplace=True)"
   ]
  },
  {
   "cell_type": "markdown",
   "id": "9628d3bc",
   "metadata": {},
   "source": [
    "## Data Preparation\n",
    "---"
   ]
  },
  {
   "cell_type": "code",
   "execution_count": 16,
   "id": "2b82578c",
   "metadata": {},
   "outputs": [],
   "source": [
    "## Data Preparation\n",
    "data = pd.get_dummies(data,drop_first=True).astype('int')\n",
    "X_train,X_test,y_train,y_test = train_test_split(data.drop([\"Price\"],axis=1),data[\"Price\"],test_size=0.3,random_state=2)"
   ]
  },
  {
   "cell_type": "markdown",
   "id": "80eb9ef3",
   "metadata": {},
   "source": [
    "#### Linear Regression\n",
    "---"
   ]
  },
  {
   "cell_type": "code",
   "execution_count": 17,
   "id": "37cdd035",
   "metadata": {},
   "outputs": [
    {
     "name": "stdout",
     "output_type": "stream",
     "text": [
      "Linear Regression for Train R²: 0.6825862950\n",
      "Linear Regression for Test R²: 0.1341316859\n"
     ]
    }
   ],
   "source": [
    "lin_model = LinearRegression()\n",
    "lin_model.fit(X_train,y_train)\n",
    "\n",
    "print(f\"Linear Regression for Train R²: {lin_model.score(X_train,y_train):.10f}\")\n",
    "\n",
    "print(f\"Linear Regression for Test R²: {lin_model.score(X_test,y_test):.10f}\")"
   ]
  },
  {
   "cell_type": "markdown",
   "id": "31faa72c",
   "metadata": {},
   "source": [
    "### Ridge Regression\n",
    "---"
   ]
  },
  {
   "cell_type": "code",
   "execution_count": 18,
   "id": "06a96ff1",
   "metadata": {},
   "outputs": [
    {
     "data": {
      "text/html": [
       "<style>#sk-container-id-1 {color: black;background-color: white;}#sk-container-id-1 pre{padding: 0;}#sk-container-id-1 div.sk-toggleable {background-color: white;}#sk-container-id-1 label.sk-toggleable__label {cursor: pointer;display: block;width: 100%;margin-bottom: 0;padding: 0.3em;box-sizing: border-box;text-align: center;}#sk-container-id-1 label.sk-toggleable__label-arrow:before {content: \"▸\";float: left;margin-right: 0.25em;color: #696969;}#sk-container-id-1 label.sk-toggleable__label-arrow:hover:before {color: black;}#sk-container-id-1 div.sk-estimator:hover label.sk-toggleable__label-arrow:before {color: black;}#sk-container-id-1 div.sk-toggleable__content {max-height: 0;max-width: 0;overflow: hidden;text-align: left;background-color: #f0f8ff;}#sk-container-id-1 div.sk-toggleable__content pre {margin: 0.2em;color: black;border-radius: 0.25em;background-color: #f0f8ff;}#sk-container-id-1 input.sk-toggleable__control:checked~div.sk-toggleable__content {max-height: 200px;max-width: 100%;overflow: auto;}#sk-container-id-1 input.sk-toggleable__control:checked~label.sk-toggleable__label-arrow:before {content: \"▾\";}#sk-container-id-1 div.sk-estimator input.sk-toggleable__control:checked~label.sk-toggleable__label {background-color: #d4ebff;}#sk-container-id-1 div.sk-label input.sk-toggleable__control:checked~label.sk-toggleable__label {background-color: #d4ebff;}#sk-container-id-1 input.sk-hidden--visually {border: 0;clip: rect(1px 1px 1px 1px);clip: rect(1px, 1px, 1px, 1px);height: 1px;margin: -1px;overflow: hidden;padding: 0;position: absolute;width: 1px;}#sk-container-id-1 div.sk-estimator {font-family: monospace;background-color: #f0f8ff;border: 1px dotted black;border-radius: 0.25em;box-sizing: border-box;margin-bottom: 0.5em;}#sk-container-id-1 div.sk-estimator:hover {background-color: #d4ebff;}#sk-container-id-1 div.sk-parallel-item::after {content: \"\";width: 100%;border-bottom: 1px solid gray;flex-grow: 1;}#sk-container-id-1 div.sk-label:hover label.sk-toggleable__label {background-color: #d4ebff;}#sk-container-id-1 div.sk-serial::before {content: \"\";position: absolute;border-left: 1px solid gray;box-sizing: border-box;top: 0;bottom: 0;left: 50%;z-index: 0;}#sk-container-id-1 div.sk-serial {display: flex;flex-direction: column;align-items: center;background-color: white;padding-right: 0.2em;padding-left: 0.2em;position: relative;}#sk-container-id-1 div.sk-item {position: relative;z-index: 1;}#sk-container-id-1 div.sk-parallel {display: flex;align-items: stretch;justify-content: center;background-color: white;position: relative;}#sk-container-id-1 div.sk-item::before, #sk-container-id-1 div.sk-parallel-item::before {content: \"\";position: absolute;border-left: 1px solid gray;box-sizing: border-box;top: 0;bottom: 0;left: 50%;z-index: -1;}#sk-container-id-1 div.sk-parallel-item {display: flex;flex-direction: column;z-index: 1;position: relative;background-color: white;}#sk-container-id-1 div.sk-parallel-item:first-child::after {align-self: flex-end;width: 50%;}#sk-container-id-1 div.sk-parallel-item:last-child::after {align-self: flex-start;width: 50%;}#sk-container-id-1 div.sk-parallel-item:only-child::after {width: 0;}#sk-container-id-1 div.sk-dashed-wrapped {border: 1px dashed gray;margin: 0 0.4em 0.5em 0.4em;box-sizing: border-box;padding-bottom: 0.4em;background-color: white;}#sk-container-id-1 div.sk-label label {font-family: monospace;font-weight: bold;display: inline-block;line-height: 1.2em;}#sk-container-id-1 div.sk-label-container {text-align: center;}#sk-container-id-1 div.sk-container {/* jupyter's `normalize.less` sets `[hidden] { display: none; }` but bootstrap.min.css set `[hidden] { display: none !important; }` so we also need the `!important` here to be able to override the default hidden behavior on the sphinx rendered scikit-learn.org. See: https://github.com/scikit-learn/scikit-learn/issues/21755 */display: inline-block !important;position: relative;}#sk-container-id-1 div.sk-text-repr-fallback {display: none;}</style><div id=\"sk-container-id-1\" class=\"sk-top-container\"><div class=\"sk-text-repr-fallback\"><pre>GridSearchCV(cv=5, estimator=Ridge(),\n",
       "             param_grid={&#x27;alpha&#x27;: [4.1, 4.1020408163265305, 4.1040816326530605,\n",
       "                                   4.106122448979591, 4.108163265306122,\n",
       "                                   4.110204081632653, 4.112244897959183,\n",
       "                                   4.114285714285714, 4.116326530612245,\n",
       "                                   4.118367346938776, 4.120408163265306,\n",
       "                                   4.122448979591836, 4.124489795918367,\n",
       "                                   4.126530612244898, 4.128571428571428,\n",
       "                                   4.130612244897959, 4.13265306122449,\n",
       "                                   4.13469387755102, 4.136734693877551,\n",
       "                                   4.1387755102040815, 4.140816326530612,\n",
       "                                   4.142857142857142, 4.144897959183673,\n",
       "                                   4.146938775510204, 4.148979591836735,\n",
       "                                   4.151020408163265, 4.153061224489796,\n",
       "                                   4.155102040816327, 4.1571428571428575,\n",
       "                                   4.159183673469387, ...]},\n",
       "             scoring=&#x27;neg_mean_squared_error&#x27;)</pre><b>In a Jupyter environment, please rerun this cell to show the HTML representation or trust the notebook. <br />On GitHub, the HTML representation is unable to render, please try loading this page with nbviewer.org.</b></div><div class=\"sk-container\" hidden><div class=\"sk-item sk-dashed-wrapped\"><div class=\"sk-label-container\"><div class=\"sk-label sk-toggleable\"><input class=\"sk-toggleable__control sk-hidden--visually\" id=\"sk-estimator-id-1\" type=\"checkbox\" ><label for=\"sk-estimator-id-1\" class=\"sk-toggleable__label sk-toggleable__label-arrow\">GridSearchCV</label><div class=\"sk-toggleable__content\"><pre>GridSearchCV(cv=5, estimator=Ridge(),\n",
       "             param_grid={&#x27;alpha&#x27;: [4.1, 4.1020408163265305, 4.1040816326530605,\n",
       "                                   4.106122448979591, 4.108163265306122,\n",
       "                                   4.110204081632653, 4.112244897959183,\n",
       "                                   4.114285714285714, 4.116326530612245,\n",
       "                                   4.118367346938776, 4.120408163265306,\n",
       "                                   4.122448979591836, 4.124489795918367,\n",
       "                                   4.126530612244898, 4.128571428571428,\n",
       "                                   4.130612244897959, 4.13265306122449,\n",
       "                                   4.13469387755102, 4.136734693877551,\n",
       "                                   4.1387755102040815, 4.140816326530612,\n",
       "                                   4.142857142857142, 4.144897959183673,\n",
       "                                   4.146938775510204, 4.148979591836735,\n",
       "                                   4.151020408163265, 4.153061224489796,\n",
       "                                   4.155102040816327, 4.1571428571428575,\n",
       "                                   4.159183673469387, ...]},\n",
       "             scoring=&#x27;neg_mean_squared_error&#x27;)</pre></div></div></div><div class=\"sk-parallel\"><div class=\"sk-parallel-item\"><div class=\"sk-item\"><div class=\"sk-label-container\"><div class=\"sk-label sk-toggleable\"><input class=\"sk-toggleable__control sk-hidden--visually\" id=\"sk-estimator-id-2\" type=\"checkbox\" ><label for=\"sk-estimator-id-2\" class=\"sk-toggleable__label sk-toggleable__label-arrow\">estimator: Ridge</label><div class=\"sk-toggleable__content\"><pre>Ridge()</pre></div></div></div><div class=\"sk-serial\"><div class=\"sk-item\"><div class=\"sk-estimator sk-toggleable\"><input class=\"sk-toggleable__control sk-hidden--visually\" id=\"sk-estimator-id-3\" type=\"checkbox\" ><label for=\"sk-estimator-id-3\" class=\"sk-toggleable__label sk-toggleable__label-arrow\">Ridge</label><div class=\"sk-toggleable__content\"><pre>Ridge()</pre></div></div></div></div></div></div></div></div></div></div>"
      ],
      "text/plain": [
       "GridSearchCV(cv=5, estimator=Ridge(),\n",
       "             param_grid={'alpha': [4.1, 4.1020408163265305, 4.1040816326530605,\n",
       "                                   4.106122448979591, 4.108163265306122,\n",
       "                                   4.110204081632653, 4.112244897959183,\n",
       "                                   4.114285714285714, 4.116326530612245,\n",
       "                                   4.118367346938776, 4.120408163265306,\n",
       "                                   4.122448979591836, 4.124489795918367,\n",
       "                                   4.126530612244898, 4.128571428571428,\n",
       "                                   4.130612244897959, 4.13265306122449,\n",
       "                                   4.13469387755102, 4.136734693877551,\n",
       "                                   4.1387755102040815, 4.140816326530612,\n",
       "                                   4.142857142857142, 4.144897959183673,\n",
       "                                   4.146938775510204, 4.148979591836735,\n",
       "                                   4.151020408163265, 4.153061224489796,\n",
       "                                   4.155102040816327, 4.1571428571428575,\n",
       "                                   4.159183673469387, ...]},\n",
       "             scoring='neg_mean_squared_error')"
      ]
     },
     "execution_count": 18,
     "metadata": {},
     "output_type": "execute_result"
    }
   ],
   "source": [
    "ridge =Ridge()\n",
    "ridge_parameters = {\"alpha\": list(np.linspace(4.1,4.2,50))}\n",
    "ridge_reg= GridSearchCV(ridge,ridge_parameters,scoring=\"neg_mean_squared_error\",cv=5)\n",
    "ridge_reg.fit(X_train,y_train)"
   ]
  },
  {
   "cell_type": "code",
   "execution_count": 19,
   "id": "86e1a6ba",
   "metadata": {},
   "outputs": [
    {
     "data": {
      "text/plain": [
       "{'alpha': 4.1}"
      ]
     },
     "execution_count": 19,
     "metadata": {},
     "output_type": "execute_result"
    }
   ],
   "source": [
    "#pd.DataFrame(ridge_reg.cv_results_)[[\"params\",\"rank_test_score\"]]\n",
    "ridge_reg.best_params_"
   ]
  },
  {
   "cell_type": "code",
   "execution_count": 23,
   "id": "675f3cf1",
   "metadata": {},
   "outputs": [
    {
     "name": "stdout",
     "output_type": "stream",
     "text": [
      "Ridge Regression for Train R²: 0.6772133390\n",
      "Ridge Regression for Test R²: 0.6741324308\n"
     ]
    }
   ],
   "source": [
    "ridge_model = Ridge(alpha=4.1)\n",
    "ridge_model.fit(X_train,y_train)\n",
    "ridge_model.score(X_train,y_train)\n",
    "print(f\"Ridge Regression for Train R²: {ridge_model.score(X_train,y_train):.10f}\")\n",
    "print(f\"Ridge Regression for Test R²: {ridge_model.score(X_test,y_test):.10f}\")"
   ]
  },
  {
   "cell_type": "markdown",
   "id": "39eda5b7",
   "metadata": {},
   "source": [
    "### Lasso Regression\n",
    "---"
   ]
  },
  {
   "cell_type": "code",
   "execution_count": null,
   "id": "6777ebcf",
   "metadata": {},
   "outputs": [],
   "source": [
    "lasso =Lasso()\n",
    "lasso_parameters = {\"alpha\": [3,5,10]}\n",
    "lasso_reg= GridSearchCV(lasso,lasso_parameters,scoring=\"neg_mean_squared_error\",cv=5)\n",
    "lasso_reg.fit(X_train,y_train)\n",
    "\n",
    "lasso_reg.best_estimator_"
   ]
  },
  {
   "cell_type": "code",
   "execution_count": 24,
   "id": "cb7202c1",
   "metadata": {},
   "outputs": [
    {
     "name": "stdout",
     "output_type": "stream",
     "text": [
      "Lasso Regression for Train R²: 0.6825702746\n",
      "Lasso Regression for Test R²: 0.1527488696\n"
     ]
    },
    {
     "name": "stderr",
     "output_type": "stream",
     "text": [
      "c:\\Users\\rdank\\anaconda3\\Lib\\site-packages\\sklearn\\linear_model\\_coordinate_descent.py:631: ConvergenceWarning: Objective did not converge. You might want to increase the number of iterations, check the scale of the features or consider increasing regularisation. Duality gap: 1.266e+15, tolerance: 7.963e+11\n",
      "  model = cd_fast.enet_coordinate_descent(\n"
     ]
    }
   ],
   "source": [
    "lasso_model = Lasso()\n",
    "lasso_model.fit(X_train,y_train)\n",
    "lasso_model.score(X_train,y_train)\n",
    "\n",
    "print(f\"Lasso Regression for Train R²: {lasso_model.score(X_train,y_train):.10f}\")\n",
    "print(f\"Lasso Regression for Test R²: {lasso_model.score(X_test,y_test):.10f}\")"
   ]
  },
  {
   "cell_type": "code",
   "execution_count": null,
   "id": "3feb8283",
   "metadata": {},
   "outputs": [],
   "source": []
  },
  {
   "cell_type": "code",
   "execution_count": null,
   "id": "62fa6c03",
   "metadata": {},
   "outputs": [],
   "source": []
  },
  {
   "cell_type": "code",
   "execution_count": null,
   "id": "120ca69b",
   "metadata": {},
   "outputs": [],
   "source": []
  },
  {
   "cell_type": "code",
   "execution_count": null,
   "id": "7e480b36",
   "metadata": {},
   "outputs": [],
   "source": []
  }
 ],
 "metadata": {
  "kernelspec": {
   "display_name": "base",
   "language": "python",
   "name": "python3"
  },
  "language_info": {
   "codemirror_mode": {
    "name": "ipython",
    "version": 3
   },
   "file_extension": ".py",
   "mimetype": "text/x-python",
   "name": "python",
   "nbconvert_exporter": "python",
   "pygments_lexer": "ipython3",
   "version": "3.11.7"
  }
 },
 "nbformat": 4,
 "nbformat_minor": 5
}
