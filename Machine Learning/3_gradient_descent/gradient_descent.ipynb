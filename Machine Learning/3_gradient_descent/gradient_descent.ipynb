{
 "cells": [
  {
   "cell_type": "markdown",
   "metadata": {},
   "source": [
    "<h1 style = \"color:red; border-bottom: 4px solid gold; \n",
    "           align: center;\n",
    "           padding-bottom: 5px;\">Gradient descent</h1>"
   ]
  },
  {
   "cell_type": "markdown",
   "metadata": {},
   "source": [
    "Gradient descent is an algorithm that finds best fit line for given training data set"
   ]
  },
  {
   "cell_type": "code",
   "execution_count": 1,
   "metadata": {},
   "outputs": [],
   "source": [
    "import matplotlib.pyplot as plt\n",
    "import pandas as pd\n",
    "import numpy as np \n",
    "from sklearn import linear_model\n",
    "import math"
   ]
  },
  {
   "cell_type": "code",
   "execution_count": 2,
   "metadata": {},
   "outputs": [],
   "source": [
    "def gradient_descent(x,y):\n",
    "    m_curr = b_curr = 0\n",
    "    iterations = 10000\n",
    "    n = len(x)\n",
    "    learning_rate = 0.01\n",
    "    for i in range(iterations):\n",
    "        y_predicted = m_curr*x+b_curr\n",
    "        md = -(2/n)*sum(x*(y-y_predicted))\n",
    "        bd = -(2/n)*sum((y-y_predicted))\n",
    "        m_curr = m_curr- learning_rate*md\n",
    "        b_curr = b_curr -learning_rate*bd\n",
    "        MSE = np.mean((y-y_predicted)**2)\n",
    "        print(f\"m: {m_curr} b:{b_curr}  MSE:{MSE} iterations:{i}\")\n"
   ]
  },
  {
   "cell_type": "code",
   "execution_count": 3,
   "metadata": {},
   "outputs": [],
   "source": [
    "x = np.array([1,2,3,4,5])\n",
    "y = np.array([5,7,9,11,13])"
   ]
  },
  {
   "cell_type": "code",
   "execution_count": 4,
   "metadata": {},
   "outputs": [],
   "source": [
    "%%capture\n",
    "\n",
    "gradient_descent(x,y)"
   ]
  },
  {
   "cell_type": "code",
   "execution_count": 5,
   "metadata": {},
   "outputs": [],
   "source": [
    "def gradient_descent(x,y):\n",
    "    m_curr = b_curr = 0\n",
    "    iterations = 100\n",
    "    n = len(x)\n",
    "    learning_rate = 0.01\n",
    "\n",
    "    # Lists to store values\n",
    "    m_vals, b_vals, mse_vals = [], [], []\n",
    "\n",
    "    for i in range(iterations):\n",
    "        y_predicted = m_curr*x+b_curr\n",
    "        md = -(2/n)*sum(x*(y-y_predicted))\n",
    "        bd = -(2/n)*sum((y-y_predicted))\n",
    "        m_curr = m_curr- learning_rate*md\n",
    "        b_curr = b_curr -learning_rate*bd\n",
    "        MSE = np.mean((y-y_predicted)**2)\n",
    "        m_vals.append(m_curr)\n",
    "        b_vals.append(b_curr)\n",
    "        mse_vals.append(MSE)\n",
    "\n",
    "        print(f\"m: {m_curr} b:{b_curr}  MSE:{MSE} iterations:{i}\")\n",
    "        \n",
    "    return m_vals, b_vals, mse_vals"
   ]
  },
  {
   "cell_type": "code",
   "execution_count": 6,
   "metadata": {},
   "outputs": [],
   "source": [
    "%%capture\n",
    "\n",
    "m_vals, b_vals, mse_vals = gradient_descent(x, y)"
   ]
  },
  {
   "cell_type": "code",
   "execution_count": 7,
   "metadata": {},
   "outputs": [
    {
     "data": {
      "text/html": [
       "<div>\n",
       "<style scoped>\n",
       "    .dataframe tbody tr th:only-of-type {\n",
       "        vertical-align: middle;\n",
       "    }\n",
       "\n",
       "    .dataframe tbody tr th {\n",
       "        vertical-align: top;\n",
       "    }\n",
       "\n",
       "    .dataframe thead th {\n",
       "        text-align: right;\n",
       "    }\n",
       "</style>\n",
       "<table border=\"1\" class=\"dataframe\">\n",
       "  <thead>\n",
       "    <tr style=\"text-align: right;\">\n",
       "      <th></th>\n",
       "      <th>name</th>\n",
       "      <th>math</th>\n",
       "      <th>cs</th>\n",
       "    </tr>\n",
       "  </thead>\n",
       "  <tbody>\n",
       "    <tr>\n",
       "      <th>0</th>\n",
       "      <td>david</td>\n",
       "      <td>92</td>\n",
       "      <td>98</td>\n",
       "    </tr>\n",
       "    <tr>\n",
       "      <th>1</th>\n",
       "      <td>laura</td>\n",
       "      <td>56</td>\n",
       "      <td>68</td>\n",
       "    </tr>\n",
       "    <tr>\n",
       "      <th>2</th>\n",
       "      <td>sanjay</td>\n",
       "      <td>88</td>\n",
       "      <td>81</td>\n",
       "    </tr>\n",
       "    <tr>\n",
       "      <th>3</th>\n",
       "      <td>wei</td>\n",
       "      <td>70</td>\n",
       "      <td>80</td>\n",
       "    </tr>\n",
       "    <tr>\n",
       "      <th>4</th>\n",
       "      <td>jeff</td>\n",
       "      <td>80</td>\n",
       "      <td>83</td>\n",
       "    </tr>\n",
       "  </tbody>\n",
       "</table>\n",
       "</div>"
      ],
      "text/plain": [
       "     name  math  cs\n",
       "0   david    92  98\n",
       "1   laura    56  68\n",
       "2  sanjay    88  81\n",
       "3     wei    70  80\n",
       "4    jeff    80  83"
      ]
     },
     "execution_count": 7,
     "metadata": {},
     "output_type": "execute_result"
    }
   ],
   "source": [
    "test_df = pd.read_csv(r\"C:\\Users\\rdank\\OneDrive\\Desktop\\Self Taught\\Git\\Codebasics\\Machine Learning\\3_gradient_descent\\Exercise\\test_scores.csv\")\n",
    "test_df.head()"
   ]
  },
  {
   "cell_type": "code",
   "execution_count": 8,
   "metadata": {},
   "outputs": [],
   "source": [
    "cs = test_df.cs\n",
    "math =test_df.math\n",
    "\n",
    "def predict_using_sklearn(x,y):\n",
    "    reg = linear_model.LinearRegression()\n",
    "    reg.fit(x,y)\n",
    "    return reg.intercept_, reg.coef_\n"
   ]
  },
  {
   "cell_type": "code",
   "execution_count": 9,
   "metadata": {},
   "outputs": [
    {
     "data": {
      "text/plain": [
       "(1.9152193111569176, array([1.01773624]))"
      ]
     },
     "execution_count": 9,
     "metadata": {},
     "output_type": "execute_result"
    }
   ],
   "source": [
    "predict_using_sklearn(test_df[[\"math\"]],test_df.cs)"
   ]
  },
  {
   "cell_type": "code",
   "execution_count": null,
   "metadata": {},
   "outputs": [
    {
     "ename": "",
     "evalue": "",
     "output_type": "error",
     "traceback": [
      "\u001b[1;31mThe Kernel crashed while executing code in the current cell or a previous cell. \n",
      "\u001b[1;31mPlease review the code in the cell(s) to identify a possible cause of the failure. \n",
      "\u001b[1;31mClick <a href='https://aka.ms/vscodeJupyterKernelCrash'>here</a> for more info. \n",
      "\u001b[1;31mView Jupyter <a href='command:jupyter.viewOutput'>log</a> for further details."
     ]
    }
   ],
   "source": [
    "%%capture\n",
    "\n",
    "def gradient_descent(x,y):\n",
    "    m_curr = b_curr = 0\n",
    "    iterations = 100000\n",
    "    n = len(x)\n",
    "    learning_rate = 0.0001\n",
    "\n",
    "   \n",
    "    mse_previous = float('inf')\n",
    "\n",
    "    for i in range(iterations):\n",
    "        y_predicted = m_curr*x+b_curr\n",
    "        md = -(2/n)*sum(x*(y-y_predicted))\n",
    "        bd = -(2/n)*sum((y-y_predicted))\n",
    "        m_curr = m_curr- learning_rate*md\n",
    "        b_curr = b_curr -learning_rate*bd\n",
    "        mse = float(np.mean((y-y_predicted)**2))\n",
    "        if abs(float(mse)-float(mse_previous))< 1e-20:\n",
    "            print(\"we will break here\")\n",
    "            break\n",
    "        mse_previous = mse\n",
    "        \n",
    "        print(f\"m: {m_curr} b:{b_curr}  MSE:{mse} iterations:{i}\")\n",
    "        \n",
    "    return m_curr, b_curr, mse\n",
    "\n",
    "if __name__ ==\"__main__\":\n",
    "    x =np.array(test_df.math)\n",
    "    y = np.array(test_df.cs)\n",
    "    gradient_descent(x,y)"
   ]
  }
 ],
 "metadata": {
  "kernelspec": {
   "display_name": "base",
   "language": "python",
   "name": "python3"
  },
  "language_info": {
   "codemirror_mode": {
    "name": "ipython",
    "version": 3
   },
   "file_extension": ".py",
   "mimetype": "text/x-python",
   "name": "python",
   "nbconvert_exporter": "python",
   "pygments_lexer": "ipython3",
   "version": "3.11.7"
  }
 },
 "nbformat": 4,
 "nbformat_minor": 2
}
